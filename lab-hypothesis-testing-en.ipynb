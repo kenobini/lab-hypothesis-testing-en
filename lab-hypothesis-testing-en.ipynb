{
 "cells": [
  {
   "cell_type": "markdown",
   "metadata": {},
   "source": [
    "# Before your start:\n",
    "- Read the README.md file\n",
    "- Comment as much as you can and use the resources (README.md file)\n",
    "- Happy learning!"
   ]
  },
  {
   "cell_type": "code",
   "execution_count": 58,
   "metadata": {},
   "outputs": [],
   "source": [
    "# import numpy and pandas\n",
    "import pandas as pd\n",
    "import numpy as np\n",
    "from scipy.stats import trim_mean, mode, skew, gaussian_kde, pearsonr, spearmanr, beta\n",
    "from scipy.stats import ttest_1samp\n",
    "from statsmodels.stats.weightstats import ztest as ztest\n",
    "\n",
    "from scipy.stats import ttest_ind, norm, t\n",
    "from scipy.stats import f_oneway\n",
    "from scipy.stats import sem"
   ]
  },
  {
   "cell_type": "markdown",
   "metadata": {},
   "source": [
    "# Challenge 1 - Exploring the Data\n",
    "\n",
    "In this challenge, we will examine all salaries of employees of the City of Chicago. We will start by loading the dataset and examining its contents"
   ]
  },
  {
   "cell_type": "code",
   "execution_count": 61,
   "metadata": {},
   "outputs": [],
   "source": [
    "# Run this code:\n",
    "salaries = pd.read_csv('/Users/paolarivera/Documents/Ironhack/Week 4/Day 2/lab-hypothesis-testing-en-main/data/Current_Employee_Names__Salaries__and_Position_Titles.csv')"
   ]
  },
  {
   "cell_type": "markdown",
   "metadata": {},
   "source": [
    "Examine the `salaries` dataset using the `head` function below."
   ]
  },
  {
   "cell_type": "code",
   "execution_count": 64,
   "metadata": {},
   "outputs": [
    {
     "name": "stdout",
     "output_type": "stream",
     "text": [
      "                  Name                              Job Titles  \\\n",
      "0    AARON,  JEFFERY M                                SERGEANT   \n",
      "1      AARON,  KARINA   POLICE OFFICER (ASSIGNED AS DETECTIVE)   \n",
      "2  AARON,  KIMBERLEI R                CHIEF CONTRACT EXPEDITER   \n",
      "3  ABAD JR,  VICENTE M                       CIVIL ENGINEER IV   \n",
      "4    ABASCAL,  REECE E             TRAFFIC CONTROL AIDE-HOURLY   \n",
      "\n",
      "         Department Full or Part-Time Salary or Hourly  Typical Hours  \\\n",
      "0            POLICE                 F           Salary            NaN   \n",
      "1            POLICE                 F           Salary            NaN   \n",
      "2  GENERAL SERVICES                 F           Salary            NaN   \n",
      "3       WATER MGMNT                 F           Salary            NaN   \n",
      "4              OEMC                 P           Hourly           20.0   \n",
      "\n",
      "   Annual Salary  Hourly Rate  \n",
      "0       101442.0          NaN  \n",
      "1        94122.0          NaN  \n",
      "2       101592.0          NaN  \n",
      "3       110064.0          NaN  \n",
      "4            NaN        19.86  \n"
     ]
    }
   ],
   "source": [
    "print(salaries.head())"
   ]
  },
  {
   "cell_type": "code",
   "execution_count": 66,
   "metadata": {},
   "outputs": [
    {
     "data": {
      "text/plain": [
       "Index(['Name', 'Job Titles', 'Department', 'Full or Part-Time',\n",
       "       'Salary or Hourly', 'Typical Hours', 'Annual Salary', 'Hourly Rate'],\n",
       "      dtype='object')"
      ]
     },
     "execution_count": 66,
     "metadata": {},
     "output_type": "execute_result"
    }
   ],
   "source": [
    "salaries.columns"
   ]
  },
  {
   "cell_type": "code",
   "execution_count": 91,
   "metadata": {},
   "outputs": [
    {
     "name": "stdout",
     "output_type": "stream",
     "text": [
      "Name                     0\n",
      "Job Titles               0\n",
      "Department               0\n",
      "Full or Part-Time        0\n",
      "Salary or Hourly         0\n",
      "Typical Hours        25161\n",
      "Annual Salary         8022\n",
      "Hourly Rate          25161\n",
      "dtype: int64\n"
     ]
    }
   ],
   "source": [
    "print(salaries.isnull().sum())"
   ]
  },
  {
   "cell_type": "markdown",
   "metadata": {},
   "source": [
    "# Challenge 2 - Hypothesis Tests\n",
    "\n",
    "In this section of the lab, we will test whether the hourly wage of all hourly workers is significantly different from $30/hr. Import the correct one sample test function from scipy and perform the hypothesis test for a 95% two sided confidence interval."
   ]
  },
  {
   "cell_type": "code",
   "execution_count": 69,
   "metadata": {},
   "outputs": [
    {
     "name": "stdout",
     "output_type": "stream",
     "text": [
      "T-statistic: nan, P-value: nan\n",
      "Fail to reject the null hypothesis: There is no significant difference from $30/hr.\n"
     ]
    }
   ],
   "source": [
    "# Extract the hourly wage column (assuming the column is named 'hourly_wage')\n",
    "hourly_wage = salaries['Hourly Rate']\n",
    "\n",
    "# Perform the one-sample t-test (comparing to $30)\n",
    "t_stat, p_value = ttest_1samp(hourly_wage, 30)\n",
    "\n",
    "# Output the results\n",
    "print(f'T-statistic: {t_stat}, P-value: {p_value}')\n",
    "\n",
    "# Conclusion based on a 95% confidence level (alpha = 0.05)\n",
    "if p_value < 0.05:\n",
    "    print(\"Reject the null hypothesis: The hourly wage is significantly different from $30/hr.\")\n",
    "else:\n",
    "    print(\"Fail to reject the null hypothesis: There is no significant difference from $30/hr.\")\n"
   ]
  },
  {
   "cell_type": "markdown",
   "metadata": {},
   "source": [
    "# Challenge 3 - Constructing Confidence Intervals\n",
    "\n",
    "While testing our hypothesis is a great way to gather empirical evidence for accepting or rejecting the hypothesis, another way to gather evidence is by creating a confidence interval. A confidence interval gives us information about the true mean of the population. So for a 95% confidence interval, we are 95% sure that the mean of the population is within the confidence interval. \n",
    ").\n",
    "\n",
    "To read more about confidence intervals, click [here](https://en.wikipedia.org/wiki/Confidence_interval).\n",
    "\n",
    "\n",
    "In the cell below, we will construct a 95% confidence interval for the mean hourly wage of all hourly workers. \n",
    "\n",
    "The confidence interval is computed in SciPy using the `t.interval` function. You can read more about this function [here](https://docs.scipy.org/doc/scipy-0.14.0/reference/generated/scipy.stats.t.html).\n",
    "\n",
    "To compute the confidence interval of the hourly wage, use the 0.95 for the confidence level, number of rows - 1 for degrees of freedom, the mean of the sample for the location parameter and the standard error for the scale. The standard error can be computed using [this](https://docs.scipy.org/doc/scipy/reference/generated/scipy.stats.sem.html) function in SciPy."
   ]
  },
  {
   "cell_type": "code",
   "execution_count": 71,
   "metadata": {},
   "outputs": [
    {
     "name": "stdout",
     "output_type": "stream",
     "text": [
      "95% Confidence Interval: (nan, nan)\n"
     ]
    }
   ],
   "source": [
    "# Calculate the mean and standard error\n",
    "mean_wage = np.mean(hourly_wage)\n",
    "std_error = sem(hourly_wage)\n",
    "\n",
    "# Degrees of freedom (number of observations - 1)\n",
    "df = len(hourly_wage) - 1\n",
    "\n",
    "# Compute the 95% confidence interval\n",
    "conf_interval = t.interval(0.95, df, loc=mean_wage, scale=std_error)\n",
    "\n",
    "# Output the confidence interval\n",
    "print(f'95% Confidence Interval: {conf_interval}')"
   ]
  },
  {
   "cell_type": "markdown",
   "metadata": {},
   "source": [
    "# Challenge 4 - Hypothesis Tests of Proportions\n",
    "\n",
    "Another type of one sample test is a hypothesis test of proportions. In this test, we examine whether the proportion of a group in our sample is significantly different than a fraction. \n",
    "\n",
    "You can read more about one sample proportion tests [here](http://sphweb.bumc.bu.edu/otlt/MPH-Modules/BS/SAS/SAS6-CategoricalData/SAS6-CategoricalData2.html).\n",
    "\n",
    "In the cell below, use the `proportions_ztest` function from `statsmodels` to perform a hypothesis test that will determine whether the number of hourly workers in the City of Chicago is significantly different from 25% at the 95% confidence level."
   ]
  },
  {
   "cell_type": "code",
   "execution_count": 85,
   "metadata": {},
   "outputs": [
    {
     "name": "stdout",
     "output_type": "stream",
     "text": [
      "Z-statistic: -inf, P-value: 0.0\n",
      "Reject the null hypothesis: The proportion of hourly workers is significantly different from 25%.\n"
     ]
    },
    {
     "name": "stderr",
     "output_type": "stream",
     "text": [
      "/opt/anaconda3/lib/python3.12/site-packages/statsmodels/stats/weightstats.py:792: RuntimeWarning: divide by zero encountered in scalar divide\n",
      "  zstat = value / std\n"
     ]
    }
   ],
   "source": [
    "from statsmodels.stats.proportion import proportions_ztest\n",
    "\n",
    "# Filter the dataset to get only hourly employees\n",
    "hourly_employees = salaries[salaries['Salary or Hourly'] == 'hourly']\n",
    "\n",
    "# Sample data: Number of hourly workers and total employees\n",
    "hourly_worker_count = len(hourly_employees)  # Count of hourly workers\n",
    "total_employee_count = len(salaries)  # Total count of employees\n",
    "\n",
    "# Perform the proportions z-test\n",
    "count = hourly_worker_count\n",
    "nobs = total_employee_count\n",
    "value = 0.25  # Null hypothesis proportion (25%)\n",
    "\n",
    "stat, p_value = proportions_ztest(count, nobs, value)\n",
    "\n",
    "# Output the results\n",
    "print(f'Z-statistic: {stat}, P-value: {p_value}')\n",
    "\n",
    "# Conclusion based on a 95% confidence level (alpha = 0.05)\n",
    "if p_value < 0.05:\n",
    "    print(\"Reject the null hypothesis: The proportion of hourly workers is significantly different from 25%.\")\n",
    "else:\n",
    "    print(\"Fail to reject the null hypothesis: The proportion of hourly workers is not significantly different from 25%.\")\n"
   ]
  },
  {
   "cell_type": "code",
   "execution_count": 87,
   "metadata": {},
   "outputs": [
    {
     "name": "stdout",
     "output_type": "stream",
     "text": [
      "Error: No hourly workers or total employees to perform the test.\n"
     ]
    }
   ],
   "source": [
    "hourly_employees = salaries[salaries['Salary or Hourly'] == 'hourly']\n",
    "\n",
    "# Sample data: Number of hourly workers and total employees\n",
    "hourly_worker_count = len(hourly_employees)  # Count of hourly workers\n",
    "total_employee_count = len(salaries)  # Total count of employees\n",
    "\n",
    "# Check if there are any hourly workers or total employees\n",
    "if hourly_worker_count == 0 or total_employee_count == 0:\n",
    "    print(\"Error: No hourly workers or total employees to perform the test.\")\n",
    "else:\n",
    "    # Perform the proportions z-test\n",
    "    count = hourly_worker_count\n",
    "    nobs = total_employee_count\n",
    "    value = 0.25  # Null hypothesis proportion (25%)\n",
    "\n",
    "    stat, p_value = proportions_ztest(count, nobs, value)\n",
    "\n",
    "    print(f'Z-statistic: {stat}, P-value: {p_value}')\n",
    "\n",
    "    if p_value < 0.05:\n",
    "        print(\"Reject the null hypothesis: The proportion of hourly workers is significantly different from 25%.\")\n",
    "    else:\n",
    "        print(\"Fail to reject the null hypothesis: The proportion of hourly workers is not significantly different from 25%.\")\n"
   ]
  },
  {
   "cell_type": "code",
   "execution_count": null,
   "metadata": {},
   "outputs": [],
   "source": []
  }
 ],
 "metadata": {
  "kernelspec": {
   "display_name": "Python [conda env:base] *",
   "language": "python",
   "name": "conda-base-py"
  },
  "language_info": {
   "codemirror_mode": {
    "name": "ipython",
    "version": 3
   },
   "file_extension": ".py",
   "mimetype": "text/x-python",
   "name": "python",
   "nbconvert_exporter": "python",
   "pygments_lexer": "ipython3",
   "version": "3.12.7"
  }
 },
 "nbformat": 4,
 "nbformat_minor": 4
}
